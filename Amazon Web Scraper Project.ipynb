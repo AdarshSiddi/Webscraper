{
 "cells": [
  {
   "cell_type": "code",
   "execution_count": 8,
   "id": "fb21b46f",
   "metadata": {},
   "outputs": [],
   "source": [
    "#import libaries\n",
    "\n",
    "from bs4 import BeautifulSoup\n",
    "import requests\n",
    "import time\n",
    "import datetime\n",
    "import smtplib\n",
    "import pandas as pd"
   ]
  },
  {
   "cell_type": "code",
   "execution_count": 9,
   "id": "28fb2086",
   "metadata": {},
   "outputs": [
    {
     "name": "stdout",
     "output_type": "stream",
     "text": [
      "\n",
      "           Apple iPhone 14 Plus 128GB Purple\n",
      "          \n",
      "\n",
      "                              89,900\n",
      "                              \n",
      "                               .\n",
      "                              \n",
      "\n",
      "\n",
      "\n",
      "               4.6 out of 5 stars\n",
      "              \n",
      "\n"
     ]
    }
   ],
   "source": [
    "##Connecting Website\n",
    "\n",
    "URL ='https://www.amazon.in/Apple-iPhone-Plus-128GB-Purple/dp/B0BDJMSBXY/ref=sr_1_5?crid=1CVOC87L62F64&keywords=iphone+14+pro+max&qid=1668776920&qu=eyJxc2MiOiI1LjkwIiwicXNhIjoiNS43MiIsInFzcCI6IjMuODcifQ%3D%3D&sprefix=iphone+14+pro+ma%2Caps%2C257&sr=8-5'\n",
    "headers ={\"User-Agent\": \"Mozilla/5.0 (Windows NT 10.0; Win64; x64) AppleWebKit/537.36 (KHTML, like Gecko) Chrome/107.0.0.0 Safari/537.36 Edg/107.0.1418.42\", \"X-Amzn-Trace-Id\": \"Root=1-63776ae0-0b4c73820bf940f402672c08\"}\n",
    "\n",
    "page = requests.get(URL, headers=headers)\n",
    "\n",
    "soup1 = BeautifulSoup(page.content, \"html.parser\")\n",
    "\n",
    "soup2 = BeautifulSoup(soup1.prettify(), \"html.parser\")\n",
    "\n",
    "title = soup2.find(id='productTitle').get_text()\n",
    "\n",
    "price = soup2.find('span','a-price-whole').get_text()\n",
    "\n",
    "rating= soup2.find('i','a-icon a-icon-star a-star-4-5').get_text()\n",
    "\n",
    "#price = price.strip()\n",
    "#title = title.strip()\n",
    "#rating=rating.strip()\n",
    "print(title)\n",
    "print(price)\n",
    "print(rating)\n",
    "\n",
    "\n",
    "\n"
   ]
  },
  {
   "cell_type": "code",
   "execution_count": 10,
   "id": "9cebbfa4",
   "metadata": {},
   "outputs": [
    {
     "name": "stdout",
     "output_type": "stream",
     "text": [
      "Apple iPhone 14 Plus 128GB Purple\n",
      "89,900\n",
      "                              \n",
      "                               .\n",
      "4.6 out of 5 stars\n"
     ]
    }
   ],
   "source": [
    "# For better View\n",
    "\n",
    "price = price.strip()\n",
    "title = title.strip()\n",
    "rating =rating.strip()\n",
    "\n",
    "print(title)\n",
    "print(price)\n",
    "print(rating)"
   ]
  },
  {
   "cell_type": "code",
   "execution_count": 11,
   "id": "19595177",
   "metadata": {},
   "outputs": [
    {
     "name": "stdout",
     "output_type": "stream",
     "text": [
      "2022-11-18\n"
     ]
    }
   ],
   "source": [
    "# Create a Timestamp for your output to track when data was collected\n",
    "\n",
    "import datetime\n",
    "\n",
    "today = datetime.date.today()\n",
    "\n",
    "print(today)"
   ]
  },
  {
   "cell_type": "code",
   "execution_count": 12,
   "id": "93c077f8",
   "metadata": {},
   "outputs": [],
   "source": [
    "# Create CSV and write headers and data into the file\n",
    "\n",
    "import csv \n",
    "\n",
    "header = ['Product Name','Price','Ratings','Date']\n",
    "data = [title, price,rating,today]\n",
    "\n",
    "\n",
    "with open('Amazon_WebScraper_Dataset.csv', 'w', newline='', encoding='UTF8') as f:\n",
    "    writer = csv.writer(f)\n",
    "    writer.writerow(header)\n",
    "    writer.writerow(data)"
   ]
  },
  {
   "cell_type": "code",
   "execution_count": 26,
   "id": "4a69ca57",
   "metadata": {},
   "outputs": [
    {
     "data": {
      "text/html": [
       "<div>\n",
       "<style scoped>\n",
       "    .dataframe tbody tr th:only-of-type {\n",
       "        vertical-align: middle;\n",
       "    }\n",
       "\n",
       "    .dataframe tbody tr th {\n",
       "        vertical-align: top;\n",
       "    }\n",
       "\n",
       "    .dataframe thead th {\n",
       "        text-align: right;\n",
       "    }\n",
       "</style>\n",
       "<table border=\"1\" class=\"dataframe\">\n",
       "  <thead>\n",
       "    <tr style=\"text-align: right;\">\n",
       "      <th></th>\n",
       "      <th>Product Name</th>\n",
       "      <th>Price</th>\n",
       "      <th>Ratings</th>\n",
       "      <th>Date</th>\n",
       "    </tr>\n",
       "  </thead>\n",
       "  <tbody>\n",
       "    <tr>\n",
       "      <th>0</th>\n",
       "      <td>Apple iPhone 14 Plus 128GB Purple</td>\n",
       "      <td>89,900\\n                              \\n      ...</td>\n",
       "      <td>4.6 out of 5 stars</td>\n",
       "      <td>18-11-2022</td>\n",
       "    </tr>\n",
       "    <tr>\n",
       "      <th>1</th>\n",
       "      <td>Apple iPhone 14 Plus 128GB Purple</td>\n",
       "      <td>89,900\\n                              \\n      ...</td>\n",
       "      <td>4.6 out of 5 stars</td>\n",
       "      <td>18-11-2022</td>\n",
       "    </tr>\n",
       "    <tr>\n",
       "      <th>2</th>\n",
       "      <td>Apple iPhone 14 Plus 128GB Purple</td>\n",
       "      <td>89,900\\n                              \\n      ...</td>\n",
       "      <td>4.6 out of 5 stars</td>\n",
       "      <td>18-11-2022</td>\n",
       "    </tr>\n",
       "    <tr>\n",
       "      <th>3</th>\n",
       "      <td>Apple iPhone 14 Plus 128GB Purple</td>\n",
       "      <td>89,900\\n                              \\n      ...</td>\n",
       "      <td>4.6 out of 5 stars</td>\n",
       "      <td>18-11-2022</td>\n",
       "    </tr>\n",
       "    <tr>\n",
       "      <th>4</th>\n",
       "      <td>Apple iPhone 14 Plus 128GB Purple</td>\n",
       "      <td>89,900\\n                              \\n      ...</td>\n",
       "      <td>4.6 out of 5 stars</td>\n",
       "      <td>18-11-2022</td>\n",
       "    </tr>\n",
       "  </tbody>\n",
       "</table>\n",
       "</div>"
      ],
      "text/plain": [
       "                        Product Name  \\\n",
       "0  Apple iPhone 14 Plus 128GB Purple   \n",
       "1  Apple iPhone 14 Plus 128GB Purple   \n",
       "2  Apple iPhone 14 Plus 128GB Purple   \n",
       "3  Apple iPhone 14 Plus 128GB Purple   \n",
       "4  Apple iPhone 14 Plus 128GB Purple   \n",
       "\n",
       "                                               Price             Ratings  \\\n",
       "0  89,900\\n                              \\n      ...  4.6 out of 5 stars   \n",
       "1  89,900\\n                              \\n      ...  4.6 out of 5 stars   \n",
       "2  89,900\\n                              \\n      ...  4.6 out of 5 stars   \n",
       "3  89,900\\n                              \\n      ...  4.6 out of 5 stars   \n",
       "4  89,900\\n                              \\n      ...  4.6 out of 5 stars   \n",
       "\n",
       "         Date  \n",
       "0  18-11-2022  \n",
       "1  18-11-2022  \n",
       "2  18-11-2022  \n",
       "3  18-11-2022  \n",
       "4  18-11-2022  "
      ]
     },
     "execution_count": 26,
     "metadata": {},
     "output_type": "execute_result"
    }
   ],
   "source": [
    "df = pd.read_csv(r\"D:\\Data Analytics\\Demo Project\\Project-3\\Amazon_WebScraper_Dataset.csv\")\n",
    "\n",
    "df.head()"
   ]
  },
  {
   "cell_type": "code",
   "execution_count": 27,
   "id": "e66a8ba8",
   "metadata": {},
   "outputs": [],
   "source": [
    "#  Appending data to the csv\n",
    "\n",
    "with open('Amazon_WebScraper_Dataset.csv', 'a', newline='', encoding='UTF8') as f:\n",
    "    writer = csv.writer(f)\n",
    "    writer.writerow(data)"
   ]
  },
  {
   "cell_type": "code",
   "execution_count": 30,
   "id": "047b3968",
   "metadata": {},
   "outputs": [],
   "source": [
    "def check_price():\n",
    "    \n",
    "    URL ='https://www.amazon.in/Apple-iPhone-Plus-128GB-Purple/dp/B0BDJMSBXY/ref=sr_1_5?crid=1CVOC87L62F64&keywords=iphone+14+pro+max&qid=1668776920&qu=eyJxc2MiOiI1LjkwIiwicXNhIjoiNS43MiIsInFzcCI6IjMuODcifQ%3D%3D&sprefix=iphone+14+pro+ma%2Caps%2C257&sr=8-5'\n",
    "    headers ={\"User-Agent\": \"Mozilla/5.0 (Windows NT 10.0; Win64; x64) AppleWebKit/537.36 (KHTML, like Gecko) Chrome/107.0.0.0 Safari/537.36 Edg/107.0.1418.42\", \"X-Amzn-Trace-Id\": \"Root=1-63776ae0-0b4c73820bf940f402672c08\"}\n",
    "\n",
    "    page = requests.get(URL, headers=headers)\n",
    "\n",
    "    soup1 = BeautifulSoup(page.content, \"html.parser\")\n",
    "\n",
    "    soup2 = BeautifulSoup(soup1.prettify(), \"html.parser\")\n",
    "\n",
    "    title = soup2.find(id='productTitle').get_text()\n",
    "\n",
    "    price = soup2.find('span','a-price-whole').get_text()\n",
    "\n",
    "    rating= soup2.find('i','a-icon a-icon-star a-star-4-5').get_text()\n",
    "\n",
    "    price = price.strip()\n",
    "    title = title.strip()\n",
    "    rating=rating.strip( )\n",
    "\n",
    "    import datetime\n",
    "\n",
    "    today = datetime.date.today()\n",
    "    \n",
    "    import csv \n",
    "\n",
    "    header = ['Product Name','Price','Ratings','Date']\n",
    "    data = [title, price,rating,today]\n",
    "\n",
    "\n",
    "    with open('Amazon_WebScraper_Dataset.csv', 'a', newline='', encoding='UTF8') as f:\n",
    "        writer = csv.writer(f)\n",
    "        writer.writerow(data)\n"
   ]
  },
  {
   "cell_type": "code",
   "execution_count": null,
   "id": "95e34df4",
   "metadata": {},
   "outputs": [],
   "source": [
    "# Runs check_price after a set time and inputs data into your CSV\n",
    "\n",
    "while(True):\n",
    "    check_price() \n",
    "    time.sleep(5)\n",
    "    \n",
    "#time.sleep calculate only in sec so 86400sec=1day"
   ]
  },
  {
   "cell_type": "code",
   "execution_count": null,
   "id": "6424e6d7",
   "metadata": {
    "scrolled": true
   },
   "outputs": [],
   "source": [
    "df = pd.read_csv(r\"D:\\Data Analytics\\Demo Project\\Project-3\\Amazon_WebScraper_Dataset.csv\")\n",
    "\n",
    "df.head()"
   ]
  },
  {
   "cell_type": "markdown",
   "id": "39b44c00",
   "metadata": {},
   "source": [
    "#                                           THANK YOU\n",
    "\n",
    "\n"
   ]
  }
 ],
 "metadata": {
  "kernelspec": {
   "display_name": "Python 3 (ipykernel)",
   "language": "python",
   "name": "python3"
  },
  "language_info": {
   "codemirror_mode": {
    "name": "ipython",
    "version": 3
   },
   "file_extension": ".py",
   "mimetype": "text/x-python",
   "name": "python",
   "nbconvert_exporter": "python",
   "pygments_lexer": "ipython3",
   "version": "3.9.12"
  }
 },
 "nbformat": 4,
 "nbformat_minor": 5
}
